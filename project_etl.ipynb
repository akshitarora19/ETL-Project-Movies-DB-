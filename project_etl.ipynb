{
 "cells": [
  {
   "cell_type": "code",
   "execution_count": 28,
   "metadata": {},
   "outputs": [],
   "source": [
    "# Importing Dependencies\n",
    "import pandas as pd\n",
    "from sqlalchemy import create_engine\n",
    "import sqlite3"
   ]
  },
  {
   "cell_type": "markdown",
   "metadata": {},
   "source": [
    "## EXTRACT AND TRANSFORM"
   ]
  },
  {
   "cell_type": "markdown",
   "metadata": {},
   "source": [
    "### The below is the first raw Dataset which has three columns viz:\n",
    "#### 1. movieid: Unique Movie ID for each movie\n",
    "#### 2. title: The Movie Title and the Release year in Round Brackets\n",
    "#### 3. genres: The Movie genre"
   ]
  },
  {
   "cell_type": "code",
   "execution_count": 2,
   "metadata": {},
   "outputs": [
    {
     "data": {
      "text/html": [
       "<div>\n",
       "<style scoped>\n",
       "    .dataframe tbody tr th:only-of-type {\n",
       "        vertical-align: middle;\n",
       "    }\n",
       "\n",
       "    .dataframe tbody tr th {\n",
       "        vertical-align: top;\n",
       "    }\n",
       "\n",
       "    .dataframe thead th {\n",
       "        text-align: right;\n",
       "    }\n",
       "</style>\n",
       "<table border=\"1\" class=\"dataframe\">\n",
       "  <thead>\n",
       "    <tr style=\"text-align: right;\">\n",
       "      <th></th>\n",
       "      <th>movieId</th>\n",
       "      <th>title</th>\n",
       "      <th>genres</th>\n",
       "    </tr>\n",
       "  </thead>\n",
       "  <tbody>\n",
       "    <tr>\n",
       "      <th>0</th>\n",
       "      <td>1</td>\n",
       "      <td>Toy Story (1995)</td>\n",
       "      <td>Adventure|Animation|Children|Comedy|Fantasy</td>\n",
       "    </tr>\n",
       "    <tr>\n",
       "      <th>1</th>\n",
       "      <td>2</td>\n",
       "      <td>Jumanji (1995)</td>\n",
       "      <td>Adventure|Children|Fantasy</td>\n",
       "    </tr>\n",
       "    <tr>\n",
       "      <th>2</th>\n",
       "      <td>3</td>\n",
       "      <td>Grumpier Old Men (1995)</td>\n",
       "      <td>Comedy|Romance</td>\n",
       "    </tr>\n",
       "    <tr>\n",
       "      <th>3</th>\n",
       "      <td>4</td>\n",
       "      <td>Waiting to Exhale (1995)</td>\n",
       "      <td>Comedy|Drama|Romance</td>\n",
       "    </tr>\n",
       "    <tr>\n",
       "      <th>4</th>\n",
       "      <td>5</td>\n",
       "      <td>Father of the Bride Part II (1995)</td>\n",
       "      <td>Comedy</td>\n",
       "    </tr>\n",
       "  </tbody>\n",
       "</table>\n",
       "</div>"
      ],
      "text/plain": [
       "   movieId                               title  \\\n",
       "0        1                    Toy Story (1995)   \n",
       "1        2                      Jumanji (1995)   \n",
       "2        3             Grumpier Old Men (1995)   \n",
       "3        4            Waiting to Exhale (1995)   \n",
       "4        5  Father of the Bride Part II (1995)   \n",
       "\n",
       "                                        genres  \n",
       "0  Adventure|Animation|Children|Comedy|Fantasy  \n",
       "1                   Adventure|Children|Fantasy  \n",
       "2                               Comedy|Romance  \n",
       "3                         Comedy|Drama|Romance  \n",
       "4                                       Comedy  "
      ]
     },
     "execution_count": 2,
     "metadata": {},
     "output_type": "execute_result"
    }
   ],
   "source": [
    "csv_path = \"Resources/movies.csv\"\n",
    "movies_df = pd.read_csv(csv_path)\n",
    "movies_df.dropna()\n",
    "movies_df.head()"
   ]
  },
  {
   "cell_type": "code",
   "execution_count": 3,
   "metadata": {},
   "outputs": [
    {
     "data": {
      "text/html": [
       "<div>\n",
       "<style scoped>\n",
       "    .dataframe tbody tr th:only-of-type {\n",
       "        vertical-align: middle;\n",
       "    }\n",
       "\n",
       "    .dataframe tbody tr th {\n",
       "        vertical-align: top;\n",
       "    }\n",
       "\n",
       "    .dataframe thead th {\n",
       "        text-align: right;\n",
       "    }\n",
       "</style>\n",
       "<table border=\"1\" class=\"dataframe\">\n",
       "  <thead>\n",
       "    <tr style=\"text-align: right;\">\n",
       "      <th></th>\n",
       "      <th>movieid</th>\n",
       "      <th>genres</th>\n",
       "      <th>title</th>\n",
       "      <th>release_year</th>\n",
       "    </tr>\n",
       "  </thead>\n",
       "  <tbody>\n",
       "    <tr>\n",
       "      <th>0</th>\n",
       "      <td>1</td>\n",
       "      <td>Adventure|Animation|Children|Comedy|Fantasy</td>\n",
       "      <td>Toy Story</td>\n",
       "      <td>1995</td>\n",
       "    </tr>\n",
       "    <tr>\n",
       "      <th>1</th>\n",
       "      <td>2</td>\n",
       "      <td>Adventure|Children|Fantasy</td>\n",
       "      <td>Jumanji</td>\n",
       "      <td>1995</td>\n",
       "    </tr>\n",
       "    <tr>\n",
       "      <th>2</th>\n",
       "      <td>3</td>\n",
       "      <td>Comedy|Romance</td>\n",
       "      <td>Grumpier Old Men</td>\n",
       "      <td>1995</td>\n",
       "    </tr>\n",
       "    <tr>\n",
       "      <th>3</th>\n",
       "      <td>4</td>\n",
       "      <td>Comedy|Drama|Romance</td>\n",
       "      <td>Waiting to Exhale</td>\n",
       "      <td>1995</td>\n",
       "    </tr>\n",
       "    <tr>\n",
       "      <th>4</th>\n",
       "      <td>5</td>\n",
       "      <td>Comedy</td>\n",
       "      <td>Father of the Bride Part II</td>\n",
       "      <td>1995</td>\n",
       "    </tr>\n",
       "  </tbody>\n",
       "</table>\n",
       "</div>"
      ],
      "text/plain": [
       "   movieid                                       genres  \\\n",
       "0        1  Adventure|Animation|Children|Comedy|Fantasy   \n",
       "1        2                   Adventure|Children|Fantasy   \n",
       "2        3                               Comedy|Romance   \n",
       "3        4                         Comedy|Drama|Romance   \n",
       "4        5                                       Comedy   \n",
       "\n",
       "                          title release_year  \n",
       "0                    Toy Story          1995  \n",
       "1                      Jumanji          1995  \n",
       "2             Grumpier Old Men          1995  \n",
       "3            Waiting to Exhale          1995  \n",
       "4  Father of the Bride Part II          1995  "
      ]
     },
     "execution_count": 3,
     "metadata": {},
     "output_type": "execute_result"
    }
   ],
   "source": [
    "# Transformation of the Movies Dataset\n",
    "csv_file = \"Resources/movies.csv\"\n",
    "movies_df = pd.read_csv(csv_file)\n",
    "movies_df.columns = ['movieid','title','genres']\n",
    "\n",
    "# Splitting the column 'title' into two columns 'Title' and 'Release Year'\n",
    "new = movies_df[\"title\"].str.rsplit(\"(\", n = 1, expand = True)\n",
    "movies_df[\"Title\"] = new[0]\n",
    "movies_df[\"Release Year\"] = new[1]\n",
    "movies_df = movies_df.drop(['title'], axis=1)\n",
    "movies_df.columns = ['movieid', 'genres', 'title', 'release_year']\n",
    "movies_df = movies_df.dropna()\n",
    "movies_df['release_year'] = movies_df.release_year.str.replace(')', '')\n",
    "movies_df.head()"
   ]
  },
  {
   "cell_type": "markdown",
   "metadata": {},
   "source": [
    "### The below is the second raw Dataset which has three columns viz:\n",
    "####    1. movieid: Unique Movie ID for each movie.\n",
    "####    2. imdbid: Unique ID for the movie in the IMDB database.\n",
    "####    3. tmdbid: Unique ID for the movie in the TheMovieDB database."
   ]
  },
  {
   "cell_type": "code",
   "execution_count": 4,
   "metadata": {},
   "outputs": [
    {
     "data": {
      "text/html": [
       "<div>\n",
       "<style scoped>\n",
       "    .dataframe tbody tr th:only-of-type {\n",
       "        vertical-align: middle;\n",
       "    }\n",
       "\n",
       "    .dataframe tbody tr th {\n",
       "        vertical-align: top;\n",
       "    }\n",
       "\n",
       "    .dataframe thead th {\n",
       "        text-align: right;\n",
       "    }\n",
       "</style>\n",
       "<table border=\"1\" class=\"dataframe\">\n",
       "  <thead>\n",
       "    <tr style=\"text-align: right;\">\n",
       "      <th></th>\n",
       "      <th>movieId</th>\n",
       "      <th>imdbId</th>\n",
       "      <th>tmdbId</th>\n",
       "    </tr>\n",
       "  </thead>\n",
       "  <tbody>\n",
       "    <tr>\n",
       "      <th>0</th>\n",
       "      <td>1</td>\n",
       "      <td>114709</td>\n",
       "      <td>862.0</td>\n",
       "    </tr>\n",
       "    <tr>\n",
       "      <th>1</th>\n",
       "      <td>2</td>\n",
       "      <td>113497</td>\n",
       "      <td>8844.0</td>\n",
       "    </tr>\n",
       "    <tr>\n",
       "      <th>2</th>\n",
       "      <td>3</td>\n",
       "      <td>113228</td>\n",
       "      <td>15602.0</td>\n",
       "    </tr>\n",
       "    <tr>\n",
       "      <th>3</th>\n",
       "      <td>4</td>\n",
       "      <td>114885</td>\n",
       "      <td>31357.0</td>\n",
       "    </tr>\n",
       "    <tr>\n",
       "      <th>4</th>\n",
       "      <td>5</td>\n",
       "      <td>113041</td>\n",
       "      <td>11862.0</td>\n",
       "    </tr>\n",
       "  </tbody>\n",
       "</table>\n",
       "</div>"
      ],
      "text/plain": [
       "   movieId  imdbId   tmdbId\n",
       "0        1  114709    862.0\n",
       "1        2  113497   8844.0\n",
       "2        3  113228  15602.0\n",
       "3        4  114885  31357.0\n",
       "4        5  113041  11862.0"
      ]
     },
     "execution_count": 4,
     "metadata": {},
     "output_type": "execute_result"
    }
   ],
   "source": [
    "csv_path1 = \"Resources/links.csv\"\n",
    "links_df1 = pd.read_csv(csv_path1)\n",
    "links_df1.head()"
   ]
  },
  {
   "cell_type": "markdown",
   "metadata": {},
   "source": [
    "#### In this Dataset, we are adding two columns to give the actual IMDB and TMDB movie links for each movie. We are generating this link by appending the IMDB/TMDB links to the imdbid/tmdbid respectively for each movie.\n",
    "\n",
    "### For IMDB Link:\n",
    "####    The IMDB ID in the actual hyperlink requires a 7 digit ID. So in the dataset, wherever we have 6 digits in the 'imdbid' column, we are appending '0' before the id in the link. For a 7 digit 'imdbid', no changes are required.\n",
    "    \n",
    "### For TMDB Link:\n",
    "####    The TMDB ID in the actual hyperlink requires a 6 digit ID. So in the dataset, wherever we have less than 6 digits in the 'tmdbid' column, we are appending  a character '0' (6 - number of digits) times before the id in the link. For a 6 digit 'tmdbid', no changes are required."
   ]
  },
  {
   "cell_type": "code",
   "execution_count": 5,
   "metadata": {},
   "outputs": [],
   "source": [
    "# Transformation of the Movie Links Dataset\n",
    "csv_file = \"Resources/links.csv\"\n",
    "links_df = pd.read_csv(csv_file)\n",
    "links_df.columns = ['movieid','imdbid','tmdbid']"
   ]
  },
  {
   "cell_type": "code",
   "execution_count": 8,
   "metadata": {},
   "outputs": [
    {
     "data": {
      "text/html": [
       "<div>\n",
       "<style scoped>\n",
       "    .dataframe tbody tr th:only-of-type {\n",
       "        vertical-align: middle;\n",
       "    }\n",
       "\n",
       "    .dataframe tbody tr th {\n",
       "        vertical-align: top;\n",
       "    }\n",
       "\n",
       "    .dataframe thead th {\n",
       "        text-align: right;\n",
       "    }\n",
       "</style>\n",
       "<table border=\"1\" class=\"dataframe\">\n",
       "  <thead>\n",
       "    <tr style=\"text-align: right;\">\n",
       "      <th></th>\n",
       "      <th>movieid</th>\n",
       "      <th>imdbid</th>\n",
       "      <th>tmdbid</th>\n",
       "      <th>imdb_link</th>\n",
       "      <th>tmdb_link</th>\n",
       "    </tr>\n",
       "  </thead>\n",
       "  <tbody>\n",
       "    <tr>\n",
       "      <th>0</th>\n",
       "      <td>1</td>\n",
       "      <td>114709</td>\n",
       "      <td>862</td>\n",
       "      <td>https://www.imdb.com/title/tt0114709</td>\n",
       "      <td>https://www.themoviedb.org/movie/000862</td>\n",
       "    </tr>\n",
       "    <tr>\n",
       "      <th>1</th>\n",
       "      <td>2</td>\n",
       "      <td>113497</td>\n",
       "      <td>8844</td>\n",
       "      <td>https://www.imdb.com/title/tt0113497</td>\n",
       "      <td>https://www.themoviedb.org/movie/008844</td>\n",
       "    </tr>\n",
       "    <tr>\n",
       "      <th>2</th>\n",
       "      <td>3</td>\n",
       "      <td>113228</td>\n",
       "      <td>15602</td>\n",
       "      <td>https://www.imdb.com/title/tt0113228</td>\n",
       "      <td>https://www.themoviedb.org/movie/015602</td>\n",
       "    </tr>\n",
       "    <tr>\n",
       "      <th>3</th>\n",
       "      <td>4</td>\n",
       "      <td>114885</td>\n",
       "      <td>31357</td>\n",
       "      <td>https://www.imdb.com/title/tt0114885</td>\n",
       "      <td>https://www.themoviedb.org/movie/031357</td>\n",
       "    </tr>\n",
       "    <tr>\n",
       "      <th>4</th>\n",
       "      <td>5</td>\n",
       "      <td>113041</td>\n",
       "      <td>11862</td>\n",
       "      <td>https://www.imdb.com/title/tt0113041</td>\n",
       "      <td>https://www.themoviedb.org/movie/011862</td>\n",
       "    </tr>\n",
       "  </tbody>\n",
       "</table>\n",
       "</div>"
      ],
      "text/plain": [
       "   movieid  imdbid  tmdbid                             imdb_link  \\\n",
       "0        1  114709     862  https://www.imdb.com/title/tt0114709   \n",
       "1        2  113497    8844  https://www.imdb.com/title/tt0113497   \n",
       "2        3  113228   15602  https://www.imdb.com/title/tt0113228   \n",
       "3        4  114885   31357  https://www.imdb.com/title/tt0114885   \n",
       "4        5  113041   11862  https://www.imdb.com/title/tt0113041   \n",
       "\n",
       "                                 tmdb_link  \n",
       "0  https://www.themoviedb.org/movie/000862  \n",
       "1  https://www.themoviedb.org/movie/008844  \n",
       "2  https://www.themoviedb.org/movie/015602  \n",
       "3  https://www.themoviedb.org/movie/031357  \n",
       "4  https://www.themoviedb.org/movie/011862  "
      ]
     },
     "execution_count": 8,
     "metadata": {},
     "output_type": "execute_result"
    }
   ],
   "source": [
    "# Adding new columns to Create IMDB link strings\n",
    "links_df['imdb_link'] = links_df.apply(lambda row: \"https://www.imdb.com/title/tt\" + \"0\"*(7 - len(str(row.imdbid))) + str(row.imdbid), axis = 1)\n",
    "\n",
    "# Dropping Blank Columns\n",
    "links_df = links_df.dropna()\n",
    "\n",
    "# Changing the Data Type of the Pandas Column\n",
    "links_df['tmdbid'] = links_df['tmdbid'].astype(int)\n",
    "\n",
    "# Adding new columns to Create TMDB link strings\n",
    "links_df['tmdb_link'] = links_df.apply(lambda row: \"https://www.themoviedb.org/movie/\" + \"0\"*(6 - len(str(row.tmdbid))) + str(row.tmdbid), axis = 1)\n",
    "\n",
    "links_df.head()"
   ]
  },
  {
   "cell_type": "markdown",
   "metadata": {},
   "source": [
    "### The below is the third raw Dataset which has three columns viz:\n",
    "####    1. movieid: Unique Movie ID for each movie.\n",
    "####    2. userid: Unique User ID which gives rating to the movie.\n",
    "####    3. rating: The Rating for each movie\n",
    "####    4. timestamp: The actual timestamp when the User has given the rating for the movie."
   ]
  },
  {
   "cell_type": "code",
   "execution_count": 9,
   "metadata": {},
   "outputs": [
    {
     "data": {
      "text/html": [
       "<div>\n",
       "<style scoped>\n",
       "    .dataframe tbody tr th:only-of-type {\n",
       "        vertical-align: middle;\n",
       "    }\n",
       "\n",
       "    .dataframe tbody tr th {\n",
       "        vertical-align: top;\n",
       "    }\n",
       "\n",
       "    .dataframe thead th {\n",
       "        text-align: right;\n",
       "    }\n",
       "</style>\n",
       "<table border=\"1\" class=\"dataframe\">\n",
       "  <thead>\n",
       "    <tr style=\"text-align: right;\">\n",
       "      <th></th>\n",
       "      <th>userId</th>\n",
       "      <th>movieId</th>\n",
       "      <th>rating</th>\n",
       "      <th>timestamp</th>\n",
       "    </tr>\n",
       "  </thead>\n",
       "  <tbody>\n",
       "    <tr>\n",
       "      <th>0</th>\n",
       "      <td>1</td>\n",
       "      <td>307</td>\n",
       "      <td>3.5</td>\n",
       "      <td>1256677221</td>\n",
       "    </tr>\n",
       "    <tr>\n",
       "      <th>1</th>\n",
       "      <td>1</td>\n",
       "      <td>481</td>\n",
       "      <td>3.5</td>\n",
       "      <td>1256677456</td>\n",
       "    </tr>\n",
       "    <tr>\n",
       "      <th>2</th>\n",
       "      <td>1</td>\n",
       "      <td>1091</td>\n",
       "      <td>1.5</td>\n",
       "      <td>1256677471</td>\n",
       "    </tr>\n",
       "    <tr>\n",
       "      <th>3</th>\n",
       "      <td>1</td>\n",
       "      <td>1257</td>\n",
       "      <td>4.5</td>\n",
       "      <td>1256677460</td>\n",
       "    </tr>\n",
       "    <tr>\n",
       "      <th>4</th>\n",
       "      <td>1</td>\n",
       "      <td>1449</td>\n",
       "      <td>4.5</td>\n",
       "      <td>1256677264</td>\n",
       "    </tr>\n",
       "  </tbody>\n",
       "</table>\n",
       "</div>"
      ],
      "text/plain": [
       "   userId  movieId  rating   timestamp\n",
       "0       1      307     3.5  1256677221\n",
       "1       1      481     3.5  1256677456\n",
       "2       1     1091     1.5  1256677471\n",
       "3       1     1257     4.5  1256677460\n",
       "4       1     1449     4.5  1256677264"
      ]
     },
     "execution_count": 9,
     "metadata": {},
     "output_type": "execute_result"
    }
   ],
   "source": [
    "csv_path = \"Resources/ratings.csv\"\n",
    "ratings_df = pd.read_csv(csv_path)\n",
    "ratings_df.head()"
   ]
  },
  {
   "cell_type": "markdown",
   "metadata": {},
   "source": [
    "#### This Data gives the ratings provided by user for every movie. Each movie may be rated by multiple users. Also, one user can rate multiple movies. We are focusing on the ratings for each movie. So, we are calculating the mean of all ratings for each movie and dropping the column 'userId'."
   ]
  },
  {
   "cell_type": "code",
   "execution_count": 10,
   "metadata": {},
   "outputs": [
    {
     "data": {
      "text/html": [
       "<div>\n",
       "<style scoped>\n",
       "    .dataframe tbody tr th:only-of-type {\n",
       "        vertical-align: middle;\n",
       "    }\n",
       "\n",
       "    .dataframe tbody tr th {\n",
       "        vertical-align: top;\n",
       "    }\n",
       "\n",
       "    .dataframe thead th {\n",
       "        text-align: right;\n",
       "    }\n",
       "</style>\n",
       "<table border=\"1\" class=\"dataframe\">\n",
       "  <thead>\n",
       "    <tr style=\"text-align: right;\">\n",
       "      <th></th>\n",
       "      <th>movieId</th>\n",
       "      <th>userId</th>\n",
       "      <th>rating</th>\n",
       "      <th>timestamp</th>\n",
       "    </tr>\n",
       "  </thead>\n",
       "  <tbody>\n",
       "    <tr>\n",
       "      <th>0</th>\n",
       "      <td>1</td>\n",
       "      <td>141939.237859</td>\n",
       "      <td>3.886649</td>\n",
       "      <td>1.128094e+09</td>\n",
       "    </tr>\n",
       "    <tr>\n",
       "      <th>1</th>\n",
       "      <td>2</td>\n",
       "      <td>142395.293962</td>\n",
       "      <td>3.246583</td>\n",
       "      <td>1.105961e+09</td>\n",
       "    </tr>\n",
       "    <tr>\n",
       "      <th>2</th>\n",
       "      <td>3</td>\n",
       "      <td>140371.877575</td>\n",
       "      <td>3.173981</td>\n",
       "      <td>9.692933e+08</td>\n",
       "    </tr>\n",
       "    <tr>\n",
       "      <th>3</th>\n",
       "      <td>4</td>\n",
       "      <td>140527.990632</td>\n",
       "      <td>2.874540</td>\n",
       "      <td>9.405874e+08</td>\n",
       "    </tr>\n",
       "    <tr>\n",
       "      <th>4</th>\n",
       "      <td>5</td>\n",
       "      <td>141254.322735</td>\n",
       "      <td>3.077291</td>\n",
       "      <td>9.970812e+08</td>\n",
       "    </tr>\n",
       "  </tbody>\n",
       "</table>\n",
       "</div>"
      ],
      "text/plain": [
       "   movieId         userId    rating     timestamp\n",
       "0        1  141939.237859  3.886649  1.128094e+09\n",
       "1        2  142395.293962  3.246583  1.105961e+09\n",
       "2        3  140371.877575  3.173981  9.692933e+08\n",
       "3        4  140527.990632  2.874540  9.405874e+08\n",
       "4        5  141254.322735  3.077291  9.970812e+08"
      ]
     },
     "execution_count": 10,
     "metadata": {},
     "output_type": "execute_result"
    }
   ],
   "source": [
    "# Transformation of the Ratings Dataset\n",
    "csv_file = \"Resources/ratings.csv\"\n",
    "ratings_df = pd.read_csv(csv_file)\n",
    "\n",
    "# Grouping the Dataset by 'movieid' and calculating the Mean\n",
    "avg_ratings_df = ratings_df.groupby(['movieId'], as_index=False).mean()\n",
    "avg_ratings_df.head()"
   ]
  },
  {
   "cell_type": "code",
   "execution_count": 11,
   "metadata": {},
   "outputs": [
    {
     "data": {
      "text/html": [
       "<div>\n",
       "<style scoped>\n",
       "    .dataframe tbody tr th:only-of-type {\n",
       "        vertical-align: middle;\n",
       "    }\n",
       "\n",
       "    .dataframe tbody tr th {\n",
       "        vertical-align: top;\n",
       "    }\n",
       "\n",
       "    .dataframe thead th {\n",
       "        text-align: right;\n",
       "    }\n",
       "</style>\n",
       "<table border=\"1\" class=\"dataframe\">\n",
       "  <thead>\n",
       "    <tr style=\"text-align: right;\">\n",
       "      <th></th>\n",
       "      <th>movieid</th>\n",
       "      <th>rating</th>\n",
       "    </tr>\n",
       "  </thead>\n",
       "  <tbody>\n",
       "    <tr>\n",
       "      <th>0</th>\n",
       "      <td>1</td>\n",
       "      <td>3.886649</td>\n",
       "    </tr>\n",
       "    <tr>\n",
       "      <th>1</th>\n",
       "      <td>2</td>\n",
       "      <td>3.246583</td>\n",
       "    </tr>\n",
       "    <tr>\n",
       "      <th>2</th>\n",
       "      <td>3</td>\n",
       "      <td>3.173981</td>\n",
       "    </tr>\n",
       "    <tr>\n",
       "      <th>3</th>\n",
       "      <td>4</td>\n",
       "      <td>2.874540</td>\n",
       "    </tr>\n",
       "    <tr>\n",
       "      <th>4</th>\n",
       "      <td>5</td>\n",
       "      <td>3.077291</td>\n",
       "    </tr>\n",
       "  </tbody>\n",
       "</table>\n",
       "</div>"
      ],
      "text/plain": [
       "   movieid    rating\n",
       "0        1  3.886649\n",
       "1        2  3.246583\n",
       "2        3  3.173981\n",
       "3        4  2.874540\n",
       "4        5  3.077291"
      ]
     },
     "execution_count": 11,
     "metadata": {},
     "output_type": "execute_result"
    }
   ],
   "source": [
    "# New ratings data with select columns\n",
    "new_avg_ratings_df = avg_ratings_df[['movieId', 'rating']].copy()\n",
    "new_avg_ratings_df.columns = ['movieid','rating']\n",
    "new_avg_ratings_df.head()"
   ]
  },
  {
   "cell_type": "markdown",
   "metadata": {},
   "source": [
    "### The below is the fourth raw Dataset which has three columns viz:\n",
    "####    1. movieid: Unique Movie ID for each movie.\n",
    "####    2. userid: Unique User ID which gives rating to the movie.\n",
    "####    3. tag: The tag provided by the user for each movie.\n",
    "####    4. timestamp: The actual timestamp when the User has given the tag for the movie."
   ]
  },
  {
   "cell_type": "code",
   "execution_count": 12,
   "metadata": {},
   "outputs": [
    {
     "data": {
      "text/html": [
       "<div>\n",
       "<style scoped>\n",
       "    .dataframe tbody tr th:only-of-type {\n",
       "        vertical-align: middle;\n",
       "    }\n",
       "\n",
       "    .dataframe tbody tr th {\n",
       "        vertical-align: top;\n",
       "    }\n",
       "\n",
       "    .dataframe thead th {\n",
       "        text-align: right;\n",
       "    }\n",
       "</style>\n",
       "<table border=\"1\" class=\"dataframe\">\n",
       "  <thead>\n",
       "    <tr style=\"text-align: right;\">\n",
       "      <th></th>\n",
       "      <th>userId</th>\n",
       "      <th>movieId</th>\n",
       "      <th>tag</th>\n",
       "      <th>timestamp</th>\n",
       "    </tr>\n",
       "  </thead>\n",
       "  <tbody>\n",
       "    <tr>\n",
       "      <th>0</th>\n",
       "      <td>14</td>\n",
       "      <td>110</td>\n",
       "      <td>epic</td>\n",
       "      <td>1443148538</td>\n",
       "    </tr>\n",
       "    <tr>\n",
       "      <th>1</th>\n",
       "      <td>14</td>\n",
       "      <td>110</td>\n",
       "      <td>Medieval</td>\n",
       "      <td>1443148532</td>\n",
       "    </tr>\n",
       "    <tr>\n",
       "      <th>2</th>\n",
       "      <td>14</td>\n",
       "      <td>260</td>\n",
       "      <td>sci-fi</td>\n",
       "      <td>1442169410</td>\n",
       "    </tr>\n",
       "    <tr>\n",
       "      <th>3</th>\n",
       "      <td>14</td>\n",
       "      <td>260</td>\n",
       "      <td>space action</td>\n",
       "      <td>1442169421</td>\n",
       "    </tr>\n",
       "    <tr>\n",
       "      <th>4</th>\n",
       "      <td>14</td>\n",
       "      <td>318</td>\n",
       "      <td>imdb top 250</td>\n",
       "      <td>1442615195</td>\n",
       "    </tr>\n",
       "  </tbody>\n",
       "</table>\n",
       "</div>"
      ],
      "text/plain": [
       "   userId  movieId           tag   timestamp\n",
       "0      14      110          epic  1443148538\n",
       "1      14      110      Medieval  1443148532\n",
       "2      14      260        sci-fi  1442169410\n",
       "3      14      260  space action  1442169421\n",
       "4      14      318  imdb top 250  1442615195"
      ]
     },
     "execution_count": 12,
     "metadata": {},
     "output_type": "execute_result"
    }
   ],
   "source": [
    "csv_file = \"Resources/tags.csv\"\n",
    "tags_df = pd.read_csv(csv_file)\n",
    "tags_df.head()"
   ]
  },
  {
   "cell_type": "markdown",
   "metadata": {},
   "source": [
    "### This Data gives the tags provided by user for every movie. Each movie may have tags provided by multiple users. Also, one user can provide tags to multiple movies. \n",
    "\n",
    "### Here, we need to collate all the tags provided by the users for each movie. We are initially collating all the tags for each movie into a Set data structure and then converting the Set into a comma-separated string."
   ]
  },
  {
   "cell_type": "code",
   "execution_count": 13,
   "metadata": {},
   "outputs": [
    {
     "data": {
      "text/html": [
       "<div>\n",
       "<style scoped>\n",
       "    .dataframe tbody tr th:only-of-type {\n",
       "        vertical-align: middle;\n",
       "    }\n",
       "\n",
       "    .dataframe tbody tr th {\n",
       "        vertical-align: top;\n",
       "    }\n",
       "\n",
       "    .dataframe thead th {\n",
       "        text-align: right;\n",
       "    }\n",
       "</style>\n",
       "<table border=\"1\" class=\"dataframe\">\n",
       "  <thead>\n",
       "    <tr style=\"text-align: right;\">\n",
       "      <th></th>\n",
       "      <th>movieid</th>\n",
       "      <th>tag</th>\n",
       "    </tr>\n",
       "  </thead>\n",
       "  <tbody>\n",
       "    <tr>\n",
       "      <th>0</th>\n",
       "      <td>1</td>\n",
       "      <td>{boy next door, family, disney, ya boy, BD-Vid...</td>\n",
       "    </tr>\n",
       "    <tr>\n",
       "      <th>1</th>\n",
       "      <td>2</td>\n",
       "      <td>{see also:Zathura, giant insect, adapted from:...</td>\n",
       "    </tr>\n",
       "    <tr>\n",
       "      <th>2</th>\n",
       "      <td>3</td>\n",
       "      <td>{moldy, comedinha de velhinhos engraÃƒÂ§ada, N...</td>\n",
       "    </tr>\n",
       "    <tr>\n",
       "      <th>3</th>\n",
       "      <td>4</td>\n",
       "      <td>{based on novel or book, interracial relations...</td>\n",
       "    </tr>\n",
       "    <tr>\n",
       "      <th>4</th>\n",
       "      <td>5</td>\n",
       "      <td>{Touching, family, Steve Martin, it thought it...</td>\n",
       "    </tr>\n",
       "  </tbody>\n",
       "</table>\n",
       "</div>"
      ],
      "text/plain": [
       "   movieid                                                tag\n",
       "0        1  {boy next door, family, disney, ya boy, BD-Vid...\n",
       "1        2  {see also:Zathura, giant insect, adapted from:...\n",
       "2        3  {moldy, comedinha de velhinhos engraÃƒÂ§ada, N...\n",
       "3        4  {based on novel or book, interracial relations...\n",
       "4        5  {Touching, family, Steve Martin, it thought it..."
      ]
     },
     "execution_count": 13,
     "metadata": {},
     "output_type": "execute_result"
    }
   ],
   "source": [
    "# Transformation of the Tags Dataset\n",
    "new_tags_df = tags_df[['movieId', 'tag']].copy()\n",
    "new_tags_df.columns = ['movieid','tag']\n",
    "\n",
    "# Grouping Each Movie ID and Concatenating the Tags for each movie (Converts the tag to a set)\n",
    "new_tags_df = new_tags_df.set_index('movieid')\n",
    "new_tags_df = new_tags_df.groupby('movieid').agg(lambda x: set(x.tag)).reset_index().head()\n",
    "new_tags_df.head()"
   ]
  },
  {
   "cell_type": "code",
   "execution_count": 14,
   "metadata": {},
   "outputs": [
    {
     "data": {
      "text/html": [
       "<div>\n",
       "<style scoped>\n",
       "    .dataframe tbody tr th:only-of-type {\n",
       "        vertical-align: middle;\n",
       "    }\n",
       "\n",
       "    .dataframe tbody tr th {\n",
       "        vertical-align: top;\n",
       "    }\n",
       "\n",
       "    .dataframe thead th {\n",
       "        text-align: right;\n",
       "    }\n",
       "</style>\n",
       "<table border=\"1\" class=\"dataframe\">\n",
       "  <thead>\n",
       "    <tr style=\"text-align: right;\">\n",
       "      <th></th>\n",
       "      <th>movieid</th>\n",
       "      <th>tag</th>\n",
       "    </tr>\n",
       "  </thead>\n",
       "  <tbody>\n",
       "    <tr>\n",
       "      <th>0</th>\n",
       "      <td>1</td>\n",
       "      <td>boy next door, family, disney, ya boy, BD-Vide...</td>\n",
       "    </tr>\n",
       "    <tr>\n",
       "      <th>1</th>\n",
       "      <td>2</td>\n",
       "      <td>see also:Zathura, giant insect, adapted from:b...</td>\n",
       "    </tr>\n",
       "    <tr>\n",
       "      <th>2</th>\n",
       "      <td>3</td>\n",
       "      <td>moldy, comedinha de velhinhos engraÃƒÂ§ada, NO...</td>\n",
       "    </tr>\n",
       "    <tr>\n",
       "      <th>3</th>\n",
       "      <td>4</td>\n",
       "      <td>based on novel or book, interracial relationsh...</td>\n",
       "    </tr>\n",
       "    <tr>\n",
       "      <th>4</th>\n",
       "      <td>5</td>\n",
       "      <td>Touching, family, Steve Martin, it thought it ...</td>\n",
       "    </tr>\n",
       "  </tbody>\n",
       "</table>\n",
       "</div>"
      ],
      "text/plain": [
       "   movieid                                                tag\n",
       "0        1  boy next door, family, disney, ya boy, BD-Vide...\n",
       "1        2  see also:Zathura, giant insect, adapted from:b...\n",
       "2        3  moldy, comedinha de velhinhos engraÃƒÂ§ada, NO...\n",
       "3        4  based on novel or book, interracial relationsh...\n",
       "4        5  Touching, family, Steve Martin, it thought it ..."
      ]
     },
     "execution_count": 14,
     "metadata": {},
     "output_type": "execute_result"
    }
   ],
   "source": [
    "# Converting the 'tag' column of type 'set' into a string separated by comma\n",
    "new_tags_df = new_tags_df.set_index('movieid')\n",
    "new_tags_df['new_tags'] = new_tags_df['tag'].apply(lambda x: ', '.join(x))\n",
    "new_tags_df.reset_index()\n",
    "new_tags_df = new_tags_df.drop(['tag'], axis=1)\n",
    "new_tags_df = new_tags_df.reset_index()\n",
    "new_tags_df.columns = ['movieid','tag']\n",
    "new_tags_df.head()"
   ]
  },
  {
   "cell_type": "markdown",
   "metadata": {},
   "source": [
    "### Connect to local database "
   ]
  },
  {
   "cell_type": "markdown",
   "metadata": {},
   "source": [
    "### Now, we have the Pandas DataFrames from the four datasets (Movies, Links, Ratings and Tags). We are now creating a SQLITE Database.\n",
    "\n",
    "### Once the Database is created, we create corresponding Tables for each DataFrame"
   ]
  },
  {
   "cell_type": "code",
   "execution_count": 17,
   "metadata": {},
   "outputs": [],
   "source": [
    "DB_Name = 'Movies_DB'\n",
    "engine = create_engine(f'sqlite:///{DB_Name}')"
   ]
  },
  {
   "cell_type": "code",
   "execution_count": 18,
   "metadata": {},
   "outputs": [
    {
     "data": {
      "text/plain": [
       "<sqlalchemy.engine.result.ResultProxy at 0x23a99f8dd68>"
      ]
     },
     "execution_count": 18,
     "metadata": {},
     "output_type": "execute_result"
    }
   ],
   "source": [
    "# Create Table 'Movies' within the 'Movies_DB' database\n",
    "engine.execute('CREATE TABLE \"Movies\" ('\n",
    "               'movieid VARCHAR NOT NULL,'\n",
    "               'genres VARCHAR NOT NULL,'\n",
    "               'title VARCHAR NOT NULL,'\n",
    "               'release_year VARCHAR NOT NULL,'\n",
    "               'PRIMARY KEY (movieid));')\n",
    "\n",
    "# Create Table 'Links' within the 'Movies_DB' database\n",
    "engine.execute('CREATE TABLE \"Links\" ('\n",
    "               'movieid VARCHAR NOT NULL,'\n",
    "               'imdbid VARCHAR NOT NULL,'\n",
    "               'tmdbid VARCHAR NOT NULL,'\n",
    "               'imdb_link VARCHAR NOT NULL,'\n",
    "               'tmdb_link VARCHAR NOT NULL,'\n",
    "               'PRIMARY KEY (movieid));')\n",
    "\n",
    "# Create Table 'Ratings' within the 'Movies_DB' database\n",
    "engine.execute('CREATE TABLE \"Ratings\" ('\n",
    "               'movieid VARCHAR NOT NULL,'\n",
    "               'rating FLOAT NOT NULL,'\n",
    "               'PRIMARY KEY (movieid));')\n",
    "\n",
    "# Create Table 'Tags' within the 'Movies_DB' database\n",
    "engine.execute('CREATE TABLE \"Tags\" ('\n",
    "               'movieid VARCHAR NOT NULL,'\n",
    "               'tag VARCHAR NOT NULL,'\n",
    "               'PRIMARY KEY (movieid));')"
   ]
  },
  {
   "cell_type": "markdown",
   "metadata": {},
   "source": [
    "### Check for tables"
   ]
  },
  {
   "cell_type": "code",
   "execution_count": 19,
   "metadata": {},
   "outputs": [
    {
     "data": {
      "text/plain": [
       "['Links', 'Movies', 'Ratings', 'Tags']"
      ]
     },
     "execution_count": 19,
     "metadata": {},
     "output_type": "execute_result"
    }
   ],
   "source": [
    "# List the tables within the Database\n",
    "engine.table_names()"
   ]
  },
  {
   "cell_type": "markdown",
   "metadata": {},
   "source": [
    "## LOAD"
   ]
  },
  {
   "cell_type": "markdown",
   "metadata": {},
   "source": [
    "### Use pandas to load csv converted DataFrames into database"
   ]
  },
  {
   "cell_type": "code",
   "execution_count": 20,
   "metadata": {},
   "outputs": [],
   "source": [
    "# Load the 'movies_df' DataFrame to the 'Movies' Table\n",
    "movies_df.to_sql(name='Movies', con=engine, if_exists='append', index=False)"
   ]
  },
  {
   "cell_type": "code",
   "execution_count": 21,
   "metadata": {},
   "outputs": [],
   "source": [
    "# Load the 'links_df' DataFrame to the 'Links' Table\n",
    "links_df.to_sql(name='Links', con=engine, if_exists='append', index=False)"
   ]
  },
  {
   "cell_type": "code",
   "execution_count": 22,
   "metadata": {},
   "outputs": [],
   "source": [
    "# Load the 'new_avg_ratings_df' DataFrame to the 'Ratings' table\n",
    "new_avg_ratings_df.to_sql(name='Ratings', con=engine, if_exists='append', index=False)"
   ]
  },
  {
   "cell_type": "code",
   "execution_count": 23,
   "metadata": {},
   "outputs": [],
   "source": [
    "# Load the 'new_tags_df' DataFrame to the 'Tags' table\n",
    "new_tags_df.to_sql(name='Tags', con=engine, if_exists='append', index=False)"
   ]
  },
  {
   "cell_type": "markdown",
   "metadata": {},
   "source": [
    "### We are creating a Final Table in the Database to store the final combined query results"
   ]
  },
  {
   "cell_type": "code",
   "execution_count": 24,
   "metadata": {},
   "outputs": [
    {
     "data": {
      "text/plain": [
       "<sqlalchemy.engine.result.ResultProxy at 0x23b0639a940>"
      ]
     },
     "execution_count": 24,
     "metadata": {},
     "output_type": "execute_result"
    }
   ],
   "source": [
    "# Create Table 'Movies' within the 'Movies_DB' database\n",
    "engine.execute('CREATE TABLE \"Movies_Final\" ('\n",
    "               'movieid VARCHAR NOT NULL,'\n",
    "               'genres VARCHAR NOT NULL,'\n",
    "               'title VARCHAR NOT NULL,'\n",
    "               'release_year VARCHAR NOT NULL,'\n",
    "               'rating FLOAT NOT NULL,'\n",
    "               'imdbid VARCHAR NOT NULL,'\n",
    "               'tmdbid VARCHAR NOT NULL,'\n",
    "               'imdb_link VARCHAR NOT NULL,'\n",
    "               'tmdb_link VARCHAR NOT NULL,'\n",
    "               'tag VARCHAR NOT NULL,'\n",
    "               'PRIMARY KEY (movieid));')"
   ]
  },
  {
   "cell_type": "markdown",
   "metadata": {},
   "source": [
    "### Here, we are using INNER JOIN to join all the four tables and inserting the query results to the 'Movies_Final' table "
   ]
  },
  {
   "cell_type": "code",
   "execution_count": 25,
   "metadata": {},
   "outputs": [],
   "source": [
    "a = engine.execute('INSERT INTO Movies_Final '\n",
    "                   'SELECT Movies.movieid, Movies.genres, Movies.title, Movies.release_year, Ratings.rating,'\n",
    "                   ' Links.imdbid, Links.tmdbid, Links.imdb_link, Links.tmdb_link, Tags.tag '\n",
    "                   'FROM Movies INNER JOIN Ratings on Movies.movieid = Ratings.movieid '\n",
    "                   'INNER JOIN Links ON Movies.movieid = Links.movieid '\n",
    "                   'INNER JOIN Tags ON Movies.movieid = Tags.movieid ')"
   ]
  },
  {
   "cell_type": "code",
   "execution_count": 26,
   "metadata": {},
   "outputs": [],
   "source": [
    "# Connecting to the Database\n",
    "cnx = sqlite3.connect('Movies_DB')\n",
    "\n",
    "# Converting a Table in the Database into a Pandas DataFrame\n",
    "df = pd.read_sql_query(\"SELECT * FROM Movies_Final\", cnx)"
   ]
  },
  {
   "cell_type": "markdown",
   "metadata": {},
   "source": [
    "### Displaying the Final Output in the Pandas DataFrame"
   ]
  },
  {
   "cell_type": "code",
   "execution_count": 27,
   "metadata": {},
   "outputs": [
    {
     "data": {
      "text/html": [
       "<div>\n",
       "<style scoped>\n",
       "    .dataframe tbody tr th:only-of-type {\n",
       "        vertical-align: middle;\n",
       "    }\n",
       "\n",
       "    .dataframe tbody tr th {\n",
       "        vertical-align: top;\n",
       "    }\n",
       "\n",
       "    .dataframe thead th {\n",
       "        text-align: right;\n",
       "    }\n",
       "</style>\n",
       "<table border=\"1\" class=\"dataframe\">\n",
       "  <thead>\n",
       "    <tr style=\"text-align: right;\">\n",
       "      <th></th>\n",
       "      <th>movieid</th>\n",
       "      <th>genres</th>\n",
       "      <th>title</th>\n",
       "      <th>release_year</th>\n",
       "      <th>rating</th>\n",
       "      <th>imdbid</th>\n",
       "      <th>tmdbid</th>\n",
       "      <th>imdb_link</th>\n",
       "      <th>tmdb_link</th>\n",
       "      <th>tag</th>\n",
       "    </tr>\n",
       "  </thead>\n",
       "  <tbody>\n",
       "    <tr>\n",
       "      <th>0</th>\n",
       "      <td>1</td>\n",
       "      <td>Adventure|Animation|Children|Comedy|Fantasy</td>\n",
       "      <td>Toy Story</td>\n",
       "      <td>1995</td>\n",
       "      <td>3.886649</td>\n",
       "      <td>114709</td>\n",
       "      <td>862</td>\n",
       "      <td>https://www.imdb.com/title/tt0114709</td>\n",
       "      <td>https://www.themoviedb.org/movie/000862</td>\n",
       "      <td>boy next door, family, disney, ya boy, BD-Vide...</td>\n",
       "    </tr>\n",
       "    <tr>\n",
       "      <th>1</th>\n",
       "      <td>2</td>\n",
       "      <td>Adventure|Children|Fantasy</td>\n",
       "      <td>Jumanji</td>\n",
       "      <td>1995</td>\n",
       "      <td>3.246583</td>\n",
       "      <td>113497</td>\n",
       "      <td>8844</td>\n",
       "      <td>https://www.imdb.com/title/tt0113497</td>\n",
       "      <td>https://www.themoviedb.org/movie/008844</td>\n",
       "      <td>see also:Zathura, giant insect, adapted from:b...</td>\n",
       "    </tr>\n",
       "    <tr>\n",
       "      <th>2</th>\n",
       "      <td>3</td>\n",
       "      <td>Comedy|Romance</td>\n",
       "      <td>Grumpier Old Men</td>\n",
       "      <td>1995</td>\n",
       "      <td>3.173981</td>\n",
       "      <td>113228</td>\n",
       "      <td>15602</td>\n",
       "      <td>https://www.imdb.com/title/tt0113228</td>\n",
       "      <td>https://www.themoviedb.org/movie/015602</td>\n",
       "      <td>moldy, comedinha de velhinhos engraÃƒÂ§ada, NO...</td>\n",
       "    </tr>\n",
       "    <tr>\n",
       "      <th>3</th>\n",
       "      <td>4</td>\n",
       "      <td>Comedy|Drama|Romance</td>\n",
       "      <td>Waiting to Exhale</td>\n",
       "      <td>1995</td>\n",
       "      <td>2.874540</td>\n",
       "      <td>114885</td>\n",
       "      <td>31357</td>\n",
       "      <td>https://www.imdb.com/title/tt0114885</td>\n",
       "      <td>https://www.themoviedb.org/movie/031357</td>\n",
       "      <td>based on novel or book, interracial relationsh...</td>\n",
       "    </tr>\n",
       "    <tr>\n",
       "      <th>4</th>\n",
       "      <td>5</td>\n",
       "      <td>Comedy</td>\n",
       "      <td>Father of the Bride Part II</td>\n",
       "      <td>1995</td>\n",
       "      <td>3.077291</td>\n",
       "      <td>113041</td>\n",
       "      <td>11862</td>\n",
       "      <td>https://www.imdb.com/title/tt0113041</td>\n",
       "      <td>https://www.themoviedb.org/movie/011862</td>\n",
       "      <td>Touching, family, Steve Martin, it thought it ...</td>\n",
       "    </tr>\n",
       "  </tbody>\n",
       "</table>\n",
       "</div>"
      ],
      "text/plain": [
       "  movieid                                       genres  \\\n",
       "0       1  Adventure|Animation|Children|Comedy|Fantasy   \n",
       "1       2                   Adventure|Children|Fantasy   \n",
       "2       3                               Comedy|Romance   \n",
       "3       4                         Comedy|Drama|Romance   \n",
       "4       5                                       Comedy   \n",
       "\n",
       "                          title release_year    rating  imdbid tmdbid  \\\n",
       "0                    Toy Story          1995  3.886649  114709    862   \n",
       "1                      Jumanji          1995  3.246583  113497   8844   \n",
       "2             Grumpier Old Men          1995  3.173981  113228  15602   \n",
       "3            Waiting to Exhale          1995  2.874540  114885  31357   \n",
       "4  Father of the Bride Part II          1995  3.077291  113041  11862   \n",
       "\n",
       "                              imdb_link  \\\n",
       "0  https://www.imdb.com/title/tt0114709   \n",
       "1  https://www.imdb.com/title/tt0113497   \n",
       "2  https://www.imdb.com/title/tt0113228   \n",
       "3  https://www.imdb.com/title/tt0114885   \n",
       "4  https://www.imdb.com/title/tt0113041   \n",
       "\n",
       "                                 tmdb_link  \\\n",
       "0  https://www.themoviedb.org/movie/000862   \n",
       "1  https://www.themoviedb.org/movie/008844   \n",
       "2  https://www.themoviedb.org/movie/015602   \n",
       "3  https://www.themoviedb.org/movie/031357   \n",
       "4  https://www.themoviedb.org/movie/011862   \n",
       "\n",
       "                                                 tag  \n",
       "0  boy next door, family, disney, ya boy, BD-Vide...  \n",
       "1  see also:Zathura, giant insect, adapted from:b...  \n",
       "2  moldy, comedinha de velhinhos engraÃƒÂ§ada, NO...  \n",
       "3  based on novel or book, interracial relationsh...  \n",
       "4  Touching, family, Steve Martin, it thought it ...  "
      ]
     },
     "execution_count": 27,
     "metadata": {},
     "output_type": "execute_result"
    }
   ],
   "source": [
    "df"
   ]
  },
  {
   "cell_type": "code",
   "execution_count": null,
   "metadata": {},
   "outputs": [],
   "source": []
  },
  {
   "cell_type": "code",
   "execution_count": null,
   "metadata": {},
   "outputs": [],
   "source": []
  }
 ],
 "metadata": {
  "kernelspec": {
   "display_name": "Python 3",
   "language": "python",
   "name": "python3"
  },
  "language_info": {
   "codemirror_mode": {
    "name": "ipython",
    "version": 3
   },
   "file_extension": ".py",
   "mimetype": "text/x-python",
   "name": "python",
   "nbconvert_exporter": "python",
   "pygments_lexer": "ipython3",
   "version": "3.7.3"
  }
 },
 "nbformat": 4,
 "nbformat_minor": 2
}
